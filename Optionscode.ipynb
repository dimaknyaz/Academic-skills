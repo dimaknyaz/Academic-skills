{
 "cells": [
  {
   "cell_type": "code",
   "execution_count": 5,
   "metadata": {},
   "outputs": [],
   "source": [
    "import math\n",
    "from numpy import *\n",
    "from time import time\n",
    "import numpy as np\n",
    "import scipy.stats as si\n",
    "import scipy"
   ]
  },
  {
   "cell_type": "code",
   "execution_count": 143,
   "metadata": {},
   "outputs": [],
   "source": [
    "#just some parameters\n",
    "S0 = 10; K = 11; T = 1; r = 0.1; sigma = 0.3\n"
   ]
  },
  {
   "cell_type": "code",
   "execution_count": 149,
   "metadata": {},
   "outputs": [],
   "source": [
    "#Black-Schloes\n",
    "def euro_vanilla(S, K, T, r, sigma, option = 'call'):\n",
    "    \n",
    "    #S: spot price\n",
    "    #K: strike price\n",
    "    #T: time to maturity\n",
    "    #r: interest rate\n",
    "    #sigma: volatility \n",
    "    \n",
    "    d1 = (np.log(S / K) + (r + 0.5 * sigma ** 2) * T) / (sigma * np.sqrt(T))\n",
    "    d2 = (np.log(S / K) + (r - 0.5 * sigma ** 2) * T) / (sigma * np.sqrt(T))\n",
    "    \n",
    "    if option == 'call':\n",
    "        result = (S * si.norm.cdf(d1, 0.0, 1.0) - K * np.exp(-r * T) * si.norm.cdf(d2, 0.0, 1.0))\n",
    "    if option == 'put':\n",
    "        result = (K * np.exp(-r * T) * si.norm.cdf(-d2, 0.0, 1.0) - S * si.norm.cdf(-d1, 0.0, 1.0))\n",
    "        \n",
    "    return result\n",
    "\n"
   ]
  },
  {
   "cell_type": "code",
   "execution_count": 145,
   "metadata": {},
   "outputs": [],
   "source": [
    "#method to return function\n",
    "def get_function_to_integrate(x,K,S0,T,r,sigma):\n",
    "    sigma1=np.sqrt(T*sigma**2)\n",
    "    mu = np.log(S0)-T*sigma**2 / 2 + r*T\n",
    "    f = (x-K)/x * (1/(sigma1*sqrt(2*np.pi)))* np.exp(-(np.log(x)-mu)**2 * 1/(2*sigma1**2))\n",
    "    return f"
   ]
  },
  {
   "cell_type": "code",
   "execution_count": 146,
   "metadata": {},
   "outputs": [],
   "source": [
    "import scipy.integrate as integrate\n",
    "# method to perform calculation\n",
    "def do_integral(S,K,T,r,sigma):\n",
    "    result = integrate.quad(lambda x: get_function_to_integrate(x,K,S,T,r,sigma), K, inf)\n",
    "    return result[0]"
   ]
  },
  {
   "cell_type": "code",
   "execution_count": 147,
   "metadata": {},
   "outputs": [
    {
     "data": {
      "text/plain": [
       "1.2131028958019372"
      ]
     },
     "execution_count": 147,
     "metadata": {},
     "output_type": "execute_result"
    }
   ],
   "source": [
    "\n",
    "do_integral(S = S0, K = K, T = T,r = r, sigma = sigma)*exp(-r*T)"
   ]
  },
  {
   "cell_type": "code",
   "execution_count": 148,
   "metadata": {},
   "outputs": [
    {
     "data": {
      "text/plain": [
       "1.2131028958035905"
      ]
     },
     "execution_count": 148,
     "metadata": {},
     "output_type": "execute_result"
    }
   ],
   "source": [
    "euro_vanilla(S = S0, K = K, T = T, r = r, sigma = sigma)"
   ]
  },
  {
   "cell_type": "code",
   "execution_count": 164,
   "metadata": {},
   "outputs": [
    {
     "data": {
      "text/plain": [
       "True"
      ]
     },
     "execution_count": 164,
     "metadata": {},
     "output_type": "execute_result"
    }
   ],
   "source": [
    "flag = True\n",
    "for i in range(100):\n",
    "    S_0 = np.random.uniform(low=1, high=10, size=None)\n",
    "    K = np.random.uniform(low=1, high=10, size=None)\n",
    "    T = np.random.uniform(low=0, high=1, size=None)\n",
    "    r = np.random.uniform(low=0, high=0.1, size=None)\n",
    "    sigma = np.random.uniform(low=0, high=1, size=None)\n",
    "    \n",
    "    if abs(euro_vanilla(S0, K, T, r, sigma) - do_integral(S0, K,T, r, sigma)*exp(-r*T) )> 0.00001:\n",
    "            flag = False\n",
    "            print(euro_vanilla(S0, K, T, r, sigma))\n",
    "            print(do_integral(S0, K,T, r, sigma)*exp(-r*T))\n",
    "            print(S_0,K,T,r,sigma)\n",
    "            break\n",
    "flag\n",
    "\n"
   ]
  }
 ],
 "metadata": {
  "kernelspec": {
   "display_name": "Python 3",
   "language": "python",
   "name": "python3"
  },
  "language_info": {
   "codemirror_mode": {
    "name": "ipython",
    "version": 3
   },
   "file_extension": ".py",
   "mimetype": "text/x-python",
   "name": "python",
   "nbconvert_exporter": "python",
   "pygments_lexer": "ipython3",
   "version": "3.7.7"
  }
 },
 "nbformat": 4,
 "nbformat_minor": 4
}
