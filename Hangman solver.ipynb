{
 "cells": [
  {
   "cell_type": "code",
   "execution_count": 1,
   "metadata": {},
   "outputs": [
    {
     "name": "stderr",
     "output_type": "stream",
     "text": [
      "[nltk_data] Downloading package words to\n",
      "[nltk_data]     C:\\Users\\Dima\\AppData\\Roaming\\nltk_data...\n",
      "[nltk_data]   Package words is already up-to-date!\n"
     ]
    }
   ],
   "source": [
    "import spacy\n",
    "from collections import Counter\n",
    "import random\n",
    "from nltk.corpus import words\n",
    "import nltk\n",
    "nltk.download('words')\n",
    "word_list = words.words()\n"
   ]
  },
  {
   "cell_type": "code",
   "execution_count": 2,
   "metadata": {},
   "outputs": [],
   "source": [
    "\"\"\"hangman game\"\"\"\n",
    "x = random.choice(list(word_list))\n",
    "x=x.lower()\n",
    "\n",
    "def get_list_start(x):\n",
    "    l=[]\n",
    "    for i in range(len(x)):\n",
    "        l.append('_')\n",
    "    return l\n",
    "\n",
    "l=get_list_start(x)\n",
    "    \n",
    "def get_start(l):\n",
    "    return ['_' for i in l]\n",
    "\n",
    "def get_string(l):\n",
    "    s=''\n",
    "    for i in l:\n",
    "        s+=i+' '\n",
    "    return s\n",
    "\n",
    "def find(s, ch):\n",
    "    return [i for i, ltr in enumerate(s) if ltr == ch]\n",
    "find(x,'e')\n",
    "fuckupcount=0\n",
    "\n",
    "def get_response(l,ch):\n",
    "        \n",
    "    if (x.count(ch)!=0):\n",
    "        for j in find(x,ch):\n",
    "            l[j]=ch\n",
    "    return l\n",
    "    \n"
   ]
  },
  {
   "cell_type": "code",
   "execution_count": 3,
   "metadata": {},
   "outputs": [],
   "source": [
    "\"\"\"from here on we actually solve it\"\"\"\n",
    "def reduce(l):\n",
    "    sorted_reduced = []\n",
    "    for i in l:\n",
    "        if i not in sorted_reduced:\n",
    "                sorted_reduced.append(i)\n",
    "\n",
    "    return sorted_reduced\n",
    "\n",
    "def to_string(l):\n",
    "    s=''\n",
    "    for i in l:\n",
    "        s+=i\n",
    "    return s\n",
    "\n",
    "def frequencySort(s):\n",
    "    counter = Counter(s)\n",
    "    output = \"\".join(char * freq for char, freq in counter.most_common())\n",
    "    return reduce(output)"
   ]
  },
  {
   "cell_type": "code",
   "execution_count": 4,
   "metadata": {},
   "outputs": [],
   "source": [
    "\n",
    "def get_poss_words(m,filtered):\n",
    "\n",
    "    letter_list=[i for i in m if i!='_']\n",
    "    \n",
    "    letter_list_index=[ [i,find(to_string(m), i)] for i in letter_list]\n",
    "    letter_list_index\n",
    "    poss_candidates=[]\n",
    "\n",
    "    for i in filtered:\n",
    "        flag=True\n",
    "        for j in range(len(letter_list)):\n",
    "            if ((find(i,letter_list[j]))!=letter_list_index[j][1]): \n",
    "                flag=False\n",
    "        if (flag==True):    \n",
    "            poss_candidates.append(i)       \n",
    "\n",
    "    \n",
    "    return reduce(poss_candidates)"
   ]
  },
  {
   "cell_type": "code",
   "execution_count": 5,
   "metadata": {},
   "outputs": [],
   "source": [
    "def get_bayes_estimate(filtered, trials):\n",
    "    fil_string=''\n",
    "    for i in filtered:\n",
    "        fil_string+=i    \n",
    "\n",
    "    sorted_letters = frequencySort(fil_string)\n",
    "    guesses = [i for i in sorted_letters if i not in trials]\n",
    "    return guesses[0]"
   ]
  },
  {
   "cell_type": "code",
   "execution_count": 6,
   "metadata": {},
   "outputs": [
    {
     "name": "stdout",
     "output_type": "stream",
     "text": [
      "the word is: porto\n"
     ]
    }
   ],
   "source": [
    "\n",
    "print('the word is: '+ x) #ofc program is not aware of it:)))\n"
   ]
  },
  {
   "cell_type": "code",
   "execution_count": 7,
   "metadata": {},
   "outputs": [
    {
     "name": "stdout",
     "output_type": "stream",
     "text": [
      "guess: e\n",
      "errors : 1\n",
      "guess: a\n",
      "errors : 2\n",
      "guess: r\n",
      "errors : 2\n",
      "guess: o\n",
      "errors : 3\n",
      "['_', '_', 'r', '_', '_']\n",
      "guess: f\n",
      "errors : 3\n",
      "['_', 'o', 'r', '_', 'o']\n",
      "guess: g\n",
      "errors : 4\n",
      "['_', 'o', 'r', '_', 'o']\n",
      "guess: m\n",
      "errors : 5\n",
      "['_', 'o', 'r', '_', 'o']\n",
      "guess: t\n",
      "errors : 6\n",
      "['_', 'o', 'r', '_', 'o']\n",
      "guess: p\n",
      "errors : 6\n",
      "['_', 'o', 'r', 't', 'o']\n",
      "porto\n"
     ]
    }
   ],
   "source": [
    "m=get_start(l)\n",
    "\n",
    "trials=[] #what letters we actually tried\n",
    "\n",
    "words_start=['e','a','r','i','o','t','n']\n",
    "\n",
    "def guess_start(l,index): \n",
    "    if (len(l)==l.count('_')):\n",
    "        return words_start[index]\n",
    "\n",
    "# this part can guess the first letter\n",
    "index=0\n",
    "while (m.count(\"_\")==len(m)):\n",
    "    trials.append(words_start[index])\n",
    "    m=get_response(m, guess_start(l,index))\n",
    "    print('guess: ' +guess_start(l,index))\n",
    "    print('errors : ' + str( len(trials)-len(reduce(m))+1) )\n",
    "    index+=1\n",
    "    \n",
    "\n",
    "filtered =[i for i in word_list if (len(i)==len(m))]\n",
    "filtered=list(map(lambda x: x.lower(), filtered))\n",
    "\n",
    "while(m.count('_')>0):\n",
    "    \n",
    "    filtered = get_poss_words(m=m,filtered=filtered)\n",
    "    g=get_bayes_estimate(filtered, trials)\n",
    "    trials.append(g)\n",
    "    print('guess: ' +g)\n",
    "    print('errors : ' + str(len(trials)-len(reduce(m))+1))\n",
    "    print(m)\n",
    "    m = get_response(m, g) \n",
    "    \n",
    "print(to_string(m))"
   ]
  },
  {
   "cell_type": "code",
   "execution_count": 8,
   "metadata": {},
   "outputs": [
    {
     "name": "stdout",
     "output_type": "stream",
     "text": [
      "loose in 0.41 cases\n"
     ]
    }
   ],
   "source": [
    "# let's ran it a lot of times\n",
    "loss_count = 0\n",
    "allowed_fuckups = 3\n",
    "\n",
    "for i in range(100):\n",
    "    x = random.choice(list(word_list))\n",
    "    x=x.lower()\n",
    "    l=get_list_start(x)\n",
    "    m=get_start(l)\n",
    "    \n",
    "    \n",
    "    trials=[] #what letters we actually tried\n",
    "\n",
    "    words_start=['e','a','r','i','o','t','n']\n",
    "\n",
    "    def guess_start(l,index): \n",
    "        if (len(l)==l.count('_')):\n",
    "            return words_start[index]\n",
    "\n",
    "    # this part can guess the first letter\n",
    "    index=0\n",
    "    while (m.count(\"_\")==len(m)):\n",
    "        trials.append(words_start[index])\n",
    "        m=get_response(m, guess_start(l,index))\n",
    "        #print('guess: ' +guess_start(l,index))\n",
    "        #print('errors : ' + str( len(trials)-len(reduce(m))+1) )\n",
    "        index+=1\n",
    "\n",
    "\n",
    "    filtered =[i for i in word_list if (len(i)==len(m))]\n",
    "    filtered=list(map(lambda x: x.lower(), filtered))\n",
    "\n",
    "    while(m.count('_')>0):\n",
    "\n",
    "        filtered = get_poss_words(m=m,filtered=filtered)\n",
    "        g=get_bayes_estimate(filtered, trials)\n",
    "        trials.append(g)\n",
    "        #print('guess: ' +g)\n",
    "        #print('errors : ' + str(len(trials)-len(reduce(m))+1))\n",
    "        if((len(trials)-len(reduce(m))+1)>=allowed_fuckups):\n",
    "            loss_count+=1\n",
    "            break\n",
    "        m = get_response(m, g) \n",
    "\n",
    "print('loose in '+ str(loss_count/100) + ' cases')"
   ]
  },
  {
   "cell_type": "code",
   "execution_count": 9,
   "metadata": {},
   "outputs": [
    {
     "data": {
      "text/plain": [
       "41"
      ]
     },
     "execution_count": 9,
     "metadata": {},
     "output_type": "execute_result"
    }
   ],
   "source": []
  },
  {
   "cell_type": "code",
   "execution_count": null,
   "metadata": {},
   "outputs": [],
   "source": []
  }
 ],
 "metadata": {
  "kernelspec": {
   "display_name": "Python 3",
   "language": "python",
   "name": "python3"
  },
  "language_info": {
   "codemirror_mode": {
    "name": "ipython",
    "version": 3
   },
   "file_extension": ".py",
   "mimetype": "text/x-python",
   "name": "python",
   "nbconvert_exporter": "python",
   "pygments_lexer": "ipython3",
   "version": "3.7.7"
  }
 },
 "nbformat": 4,
 "nbformat_minor": 4
}
